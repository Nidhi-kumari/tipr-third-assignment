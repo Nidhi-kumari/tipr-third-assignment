{
 "cells": [
  {
   "cell_type": "code",
   "execution_count": 1,
   "metadata": {},
   "outputs": [
    {
     "name": "stdout",
     "output_type": "stream",
     "text": [
      "Assignment.pdf\n",
      "LICENSE\n",
      "README.md\n",
      "Report/\n",
      "Report/report.pdf\n",
      "Report/.DS_Store\n",
      "Report/report.tex\n",
      "Untitled.ipynb\n",
      "data/\n",
      "data/CIFAR-10/\n",
      "data/CIFAR-10/data_batch_2\n",
      "data/CIFAR-10/.DS_Store\n",
      "data/CIFAR-10/data_batch_3\n",
      "data/CIFAR-10/readme.html\n",
      "data/CIFAR-10/data_batch_1\n",
      "data/CIFAR-10/batches.meta\n",
      "data/CIFAR-10/data_batch_5\n",
      "data/CIFAR-10/data_batch_4\n",
      "data/.DS_Store\n",
      "data/Fashion-MNIST/\n",
      "data/Fashion-MNIST/t10k-images-idx3-ubyte.gz\n",
      "data/Fashion-MNIST/train-labels-idx1-ubyte\n",
      "data/Fashion-MNIST/train-labels-idx1-ubyte.gz\n",
      "data/Fashion-MNIST/train-images-idx3-ubyte.gz\n",
      "data/Fashion-MNIST/train-images-idx3-ubyte\n",
      "data/Fashion-MNIST/t10k-labels-idx1-ubyte.gz\n",
      "src/\n",
      "src/preprocess_batch_3.p\n",
      "src/cnn.py\n",
      "src/MNISTimage_classification.index\n",
      "src/MNISTimage_classification.data-00000-of-00001\n",
      "src/preprocess_batch_5.p\n",
      "src/preprocess_batch_1.p\n",
      "src/MNISTDATA\n",
      "src/image_classification1.data-00000-of-00001\n",
      "src/MNISTimage_classification.meta\n",
      "src/main.py\n",
      "src/.ipynb_checkpoints/\n",
      "src/.ipynb_checkpoints/Untitled-Copy3-checkpoint.ipynb\n",
      "src/.ipynb_checkpoints/Untitled-Copy2-checkpoint.ipynb\n",
      "src/.ipynb_checkpoints/Untitled-Copy1-checkpoint.ipynb\n",
      "src/.ipynb_checkpoints/Untitled-checkpoint.ipynb\n",
      "src/image_classification2.data-00000-of-00001\n",
      "src/Untitled.ipynb\n",
      "src/preprocess_MNIST.p\n",
      "src/image_classification.data-00000-of-00001\n",
      "src/preprocess_batch_4.p\n",
      "src/image_classification.meta\n",
      "src/Untitled-Copy2.ipynb\n",
      "src/image_classification2.index\n",
      "src/image_classification.index\n",
      "src/Untitled-Copy1.ipynb\n",
      "src/image_classification1.meta\n",
      "src/checkpoint\n",
      "src/preprocess_validation.p\n",
      "src/image_classification2.meta\n",
      "src/image_classification1.index\n",
      "src/Untitled-Copy3.ipynb\n",
      "src/preprocess_batch_2.p\n",
      "src/preprocess_validation_MNIST.p\n",
      "virtualenv_tutorial.md\n"
     ]
    }
   ],
   "source": [
    "!tar chvfz notebook.tar.gz *\n"
   ]
  },
  {
   "cell_type": "code",
   "execution_count": null,
   "metadata": {},
   "outputs": [],
   "source": []
  }
 ],
 "metadata": {
  "kernelspec": {
   "display_name": "Python 3",
   "language": "python",
   "name": "python3"
  },
  "language_info": {
   "codemirror_mode": {
    "name": "ipython",
    "version": 3
   },
   "file_extension": ".py",
   "mimetype": "text/x-python",
   "name": "python",
   "nbconvert_exporter": "python",
   "pygments_lexer": "ipython3",
   "version": "3.6.8"
  }
 },
 "nbformat": 4,
 "nbformat_minor": 2
}
