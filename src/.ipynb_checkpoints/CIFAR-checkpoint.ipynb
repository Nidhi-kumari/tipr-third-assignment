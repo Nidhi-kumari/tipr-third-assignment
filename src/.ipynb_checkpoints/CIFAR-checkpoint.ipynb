version https://git-lfs.github.com/spec/v1
oid sha256:f9c3088f0382f83f5efcad1ed6782e629bc33f984bd7ad3213aa8ca8666f7a40
size 25379
