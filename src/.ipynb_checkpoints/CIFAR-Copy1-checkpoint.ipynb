version https://git-lfs.github.com/spec/v1
oid sha256:f935af2eaf2be4f69fec52c7ed84434db7a1fa5c5eac4a22c5d2eb23349cc21d
size 385988
