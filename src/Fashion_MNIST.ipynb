version https://git-lfs.github.com/spec/v1
oid sha256:fce0060466476be854c0dcf9304811e6c3a5bccbea007d43f919a6b9efe79197
size 1246963
