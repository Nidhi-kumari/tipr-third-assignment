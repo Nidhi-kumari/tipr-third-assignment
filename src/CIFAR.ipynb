version https://git-lfs.github.com/spec/v1
oid sha256:234b0178972fb24ddd300c9a2df4639f36c40ad5942d0d730823eb2dbcacd744
size 210005
